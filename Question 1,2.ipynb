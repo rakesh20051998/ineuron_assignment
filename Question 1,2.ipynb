{
 "cells": [
  {
   "cell_type": "markdown",
   "id": "2d7aea3d",
   "metadata": {},
   "source": [
    "# Question 1: -\n",
    "Write a program that takes a string as input, and counts the frequency of each word in the string, there might\n",
    "be repeated characters in the string. Your task is to find the highest frequency and returns the length of the\n",
    "highest-frequency word.\n",
    "\n",
    "\n",
    "Note - You have to write at least 2 additional test cases in which your program will run successfully and provide\n",
    "an explanation for the same.\n",
    "Example input - string = “write write write all the number from from from 1 to 100”\n",
    "Example output - 5\n",
    "Explanation - From the given string we can note that the most frequent words are “write” and “from” and\n",
    "the maximum value of both the values is “write” and its corresponding length is 5"
   ]
  },
  {
   "cell_type": "code",
   "execution_count": 30,
   "id": "adc38b06",
   "metadata": {},
   "outputs": [
    {
     "name": "stdout",
     "output_type": "stream",
     "text": [
      "{'write': 5, 'from': 4}\n",
      "{'the': 3}\n",
      "{'the': 3}\n"
     ]
    }
   ],
   "source": [
    "def total_occurence(string):\n",
    "    res={}\n",
    "    final_res={}\n",
    "    str_lst=string.split(' ')\n",
    "    str_set=set(str_lst)\n",
    "    for i in str_set:\n",
    "        res[i]=str_lst.count(i)\n",
    "#     print(res)\n",
    "    key_ele=list(res.keys())\n",
    "    value_ele=list(res.values())\n",
    "    max_rep=max(value_ele)\n",
    "#     print(max_rep)\n",
    "    for i in range(0,len(value_ele)):\n",
    "        if value_ele[i]==max_rep:\n",
    "            final_res[key_ele[i]]=len(key_ele[i])\n",
    "#             print(value_ele[i])\n",
    "    return(final_res)\n",
    "print(total_occurence('write write write all the number from from from 1 to 100'))\n",
    "print(total_occurence('''As we all know, a paragraph is a group of sentences that are connected and make absolute sense. While writing a long essay or letter, we break them into paragraphs for better understanding and to make a well-structured writing piece. Paragraph writing on any topic is not only about expressing your thoughts on the given topic, but it is also about framing ideas about the topic and making it convenient for the readers to follow it. In English paragraph writing, it is essential to focus on the writing style, i.e., the flow and connection between the sentences.'''))\n",
    "print(total_occurence(\"Paragraphs are commonly numbered using the decimal system, where (in books) the integral part of the decimal represents the number of the chapter and the fractional parts are arranged in each chapter in order of magnitude. Thus in Whittaker and Watson's 1921 A Course of Modern Analysis, chapter 9 is devoted to Fourier Series; within that chapter §9.6 introduces Riemann's theory, the following section §9.61 treats an associated function, following §9.62 some properties of that function, following §9.621 a related lemma, while §9.63 introduces Riemann's main theorem, and so on. Whittaker and Watson attribute this system of numbering to Giuseppe Peano on their Contents page, although this attribution does not seem to be widely credited elsewhere.[6] Gradshteyn and Ryzhik is another book using this scheme since its third edition in 1951.\"))"
   ]
  },
  {
   "cell_type": "markdown",
   "id": "52d4afe6",
   "metadata": {},
   "source": [
    "Explaination1-\n",
    ".first i have splitted the string with space then i have made set so it will give unique values .\n",
    ".I iterated over the set and with the help of '.count' function i counted the total occurence and after i updated in a dictionary with key as word and values as no of total occurence.\n",
    ".I made list of both keys and values so to find the maximum value of the occurence .\n",
    ".Then with the help of for loop and list operations i uploaded max occured word letter count in value and word in key."
   ]
  },
  {
   "cell_type": "markdown",
   "id": "c8d18e7c",
   "metadata": {},
   "source": [
    "# Question 2:-\n",
    "\n",
    "Consider a string to be valid if all characters of the string appear the same number of times. It is also valid if\n",
    "he can remove just one character at the index in the string, and the remaining characters will occur the same\n",
    "number of times. Given a string, determine if it is valid. If so, return YES , otherwise return NO .\n",
    "\n",
    "Note - You have to write at least 2 additional test cases in which your program will run successfully and provide\n",
    "an explanation for the same.\n",
    "Example input 1 - s = “abc”. This is a valid string because frequencies are { “a”: 1, “b”: 1, “c”: 1 }\n",
    "Example output 1- YES\n",
    "Example input 2 - s “abcc”. This string is not valid as we can remove only 1 occurrence of “c”. That leaves\n",
    "character frequencies of { “a”: 1, “b”: 1 , “c”: 2 }\n",
    "Example output 2 - NO"
   ]
  },
  {
   "cell_type": "code",
   "execution_count": 41,
   "id": "6a9da420",
   "metadata": {},
   "outputs": [
    {
     "name": "stdout",
     "output_type": "stream",
     "text": [
      "NO\n",
      "YES\n"
     ]
    }
   ],
   "source": [
    "def valid_str(string):\n",
    "    res={}\n",
    "    str_lst=list(string)\n",
    "    str_set=set(str_lst)\n",
    "    for i in str_set:\n",
    "        res[i]=str_lst.count(i)\n",
    "    value_ele=list(res.values())\n",
    "    if max(value_ele)==min(value_ele):\n",
    "        print(\"YES\")\n",
    "    else:\n",
    "        print(\"NO\")\n",
    "valid_str('abcdefghijklmnopqba')\n",
    "valid_str('abc')"
   ]
  },
  {
   "cell_type": "markdown",
   "id": "c2b1eb6c",
   "metadata": {},
   "source": [
    "Explaination 2\n",
    ". made list of individual character and after made set out of it \n",
    ". Then iterated over set and uploaded key as alphabet and value as no of occurence .\n",
    ". I made list of keys and founded min and max value and compared them if they are equal than returned yes else no"
   ]
  },
  {
   "cell_type": "code",
   "execution_count": null,
   "id": "f1d5d1b4",
   "metadata": {},
   "outputs": [],
   "source": []
  }
 ],
 "metadata": {
  "kernelspec": {
   "display_name": "Python 3",
   "language": "python",
   "name": "python3"
  },
  "language_info": {
   "codemirror_mode": {
    "name": "ipython",
    "version": 3
   },
   "file_extension": ".py",
   "mimetype": "text/x-python",
   "name": "python",
   "nbconvert_exporter": "python",
   "pygments_lexer": "ipython3",
   "version": "3.8.8"
  }
 },
 "nbformat": 4,
 "nbformat_minor": 5
}
